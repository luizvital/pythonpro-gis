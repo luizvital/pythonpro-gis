{
 "cells": [
  {
   "cell_type": "markdown",
   "metadata": {},
   "source": [
    "# Procurando Bares com GeoDjango\n",
    "\n",
    "Planejando suas atividades pós-quarentena!"
   ]
  },
  {
   "cell_type": "markdown",
   "metadata": {},
   "source": [
    "https://docs.djangoproject.com/en/3.0/ref/contrib/gis/"
   ]
  },
  {
   "cell_type": "code",
   "execution_count": 4,
   "metadata": {},
   "outputs": [],
   "source": [
    "import os\n",
    "import sys\n",
    "import django\n",
    "\n",
    "# Adiciona diretório no projeto no PYTHONPATH\n",
    "sys.path.append(os.path.join(os.getcwd(), 'geo'))\n",
    "\n",
    "# Definine settings Django a ser utilizado\n",
    "os.environ.setdefault('DJANGO_SETTINGS_MODULE', 'geo.settings')\n",
    "\n",
    "# Configura Django para rodar no Notebook\n",
    "django.setup()"
   ]
  },
  {
   "cell_type": "markdown",
   "metadata": {},
   "source": [
    "## Habilitar uso do GeoDjango"
   ]
  },
  {
   "cell_type": "markdown",
   "metadata": {},
   "source": [
    "Incluir `django.contrib.gis` no settings `INSTALLED_APPS` para habilitar *management commands*, uso de templates, etc.\n",
    "\n",
    "```python\n",
    "INSTALLED_APPS = [\n",
    "    'django.contrib.gis',\n",
    "]\n",
    "```\n",
    "\n",
    "Modificar `ENGINE` de `DATABASES` para `django.contrib.gis.db.backends.postgis`\n",
    "\n",
    "```python\n",
    "DATABASES = {\n",
    "    'default': {\n",
    "        'ENGINE': 'django.contrib.gis.db.backends.postgis',\n",
    "        'NAME': 'geo',\n",
    "        'USER': 'postgres',\n",
    "        'PASSWORD': 'postgres'\n",
    "    }\n",
    "}\n",
    "```"
   ]
  },
  {
   "cell_type": "markdown",
   "metadata": {},
   "source": [
    "## Baixar dados do OpenStreetMap\n",
    "\n",
    "Mapa colaborativo https://www.openstreetmap.org com licença de uso aberta.\n",
    "\n",
    "Vamos baixar dados utilizando o Overpass Turbo https://overpass-turbo.eu/, neste caso vamos escolher somente a tag `amenity` que tenha valor `bar`.\n",
    "\n",
    "![Overpass Turbo](./images/overpass.png)\n",
    "\n",
    "Podemos baixar os dados no formato GeoJSON e importá-los para nosso banco de dados. Em nosso caso, gravamos um arquivo `bar.geojson`.\n",
    "\n",
    "Veja um trecho do arquivo baixado:\n",
    "\n",
    "```json\n",
    "{\n",
    "  \"type\": \"FeatureCollection\",\n",
    "  \"generator\": \"overpass-ide\",\n",
    "  \"copyright\": \"The data included in this document is from www.openstreetmap.org. The data is made available under ODbL.\",\n",
    "  \"timestamp\": \"2020-06-15T19:05:02Z\",\n",
    "  \"features\": [\n",
    "    {\n",
    "      \"type\": \"Feature\",\n",
    "      \"properties\": {\n",
    "        \"@id\": \"node/319258499\",\n",
    "        \"amenity\": \"bar\",\n",
    "        \"name\": \"Bar do Salomão\"\n",
    "      },\n",
    "      \"geometry\": {\n",
    "        \"type\": \"Point\",\n",
    "        \"coordinates\": [\n",
    "          -43.9198583,\n",
    "          -19.9388896\n",
    "        ]\n",
    "      },\n",
    "      \"id\": \"node/319258499\"\n",
    "    },\n",
    "    {\n",
    "      \"type\": \"Feature\",\n",
    "      \"properties\": {\n",
    "        \"@id\": \"node/745741462\",\n",
    "        \"addr:street\": \"Avenida Engenheiro Caetano Alvares\",\n",
    "        \"amenity\": \"bar\",\n",
    "        \"name\": \"Bar do Luiz\"\n",
    "      },\n",
    "      \"geometry\": {\n",
    "        \"type\": \"Point\",\n",
    "        \"coordinates\": [\n",
    "          -46.6386645,\n",
    "          -23.4860942\n",
    "        ]\n",
    "      },\n",
    "      \"id\": \"node/745741462\"\n",
    "    }\n",
    "}\n",
    "```"
   ]
  },
  {
   "cell_type": "markdown",
   "metadata": {},
   "source": [
    "## Modelo POI (Point of Interest)\n",
    "\n",
    "Criamos um modelo `POI` com alguns campos retornados no GeoJSON. Pode-se usar o comando [ogrinspect](https://docs.djangoproject.com/en/3.0/ref/contrib/gis/commands/#ogrinspect) `manage.py ogrinspect bar.geojson POI` para gerar um modelo baseado no arquivo GeoJSON baixado, porém serve somente para um rascunho inicial, já que ele não tem como identificar os tamanhos dos campos caracteres e gera campos com nomes da maneira que estão no arquivo, com `:` no nome, que é código Python inválido.\n",
    "\n",
    "Nosso modelo final ficou assim:\n",
    "\n",
    "```python\n",
    "from django.contrib.gis.db import models\n",
    "\n",
    "\n",
    "class POI(models.Model):\n",
    "    id = models.CharField(max_length=50, primary_key=True)\n",
    "    amenity = models.CharField(max_length=50)\n",
    "    name = models.CharField(max_length=200, blank=True, default='')\n",
    "    addr_street = models.CharField(max_length=300, default='')\n",
    "    addr_city = models.CharField(max_length=100, default='')\n",
    "    addr_country = models.CharField(max_length=100, default='')\n",
    "    addr_housenumber = models.CharField(max_length=30,  default='')\n",
    "    wheelchair = models.CharField(max_length=10, default='')\n",
    "    addr_postcode = models.CharField(max_length=10, default='')\n",
    "    phone = models.CharField(max_length=50, default='')\n",
    "    source = models.CharField(max_length=100, default='')\n",
    "    brewery = models.CharField(max_length=100, default='')\n",
    "    smoking = models.CharField(max_length=50, default='')\n",
    "    food = models.CharField(max_length=50, default='')\n",
    "    internet_access = models.CharField(max_length=50, default='')\n",
    "    website = models.CharField(max_length=300, default='')\n",
    "    outdoor_seating = models.CharField(max_length=50, default='')\n",
    "    delivery = models.CharField(max_length=50, default='')\n",
    "    description = models.CharField(max_length=300, default='')\n",
    "    addr_state = models.CharField(max_length=100, default='')\n",
    "    opening_hours_covid19 = models.CharField(max_length=50, default='')\n",
    "    geom = models.PointField(srid=4326)\n",
    "```"
   ]
  },
  {
   "cell_type": "markdown",
   "metadata": {},
   "source": [
    "## Importando dados para o Banco\n",
    "\n",
    "Importamos os dados utilizando um `management command` [loadbars](/edit/work/geo/poi/management/commands/loadbars.py)\n",
    "\n",
    "Chamado desta maneira:\n",
    "\n",
    "```\n",
    "/manage.py loadbars ../bar.geojson\n",
    "```"
   ]
  },
  {
   "cell_type": "markdown",
   "metadata": {},
   "source": [
    "## Navegando nos dados"
   ]
  },
  {
   "cell_type": "code",
   "execution_count": 5,
   "metadata": {},
   "outputs": [
    {
     "data": {
      "text/plain": [
       "973"
      ]
     },
     "execution_count": 5,
     "metadata": {},
     "output_type": "execute_result"
    }
   ],
   "source": [
    "from poi.models import POI\n",
    "\n",
    "# Quantos registros vieram\n",
    "POI.objects.count()"
   ]
  },
  {
   "cell_type": "code",
   "execution_count": 6,
   "metadata": {},
   "outputs": [
    {
     "name": "stdout",
     "output_type": "stream",
     "text": [
      "Bar Recanto Nordestino: 1804.26290238 m, None\n",
      "BeerGarden: 2951.70045242 m, None\n",
      "Empório Hopfields: 3043.44738127 m, None\n",
      "Guten Bier: 3593.00705239 m, None\n",
      "Disk Bebidas: 3719.66833005 m, None\n",
      "Nibs Juice Bar: 3789.84072914 m, None\n",
      "Capital da Vila: 3922.47238593 m, None\n",
      "The Drunk Monk: 3929.05305045 m, None\n",
      "Mestre Cervejeiro: 3975.50496183 m, None\n",
      "Baltazar: 4403.78509042 m, None\n"
     ]
    }
   ],
   "source": [
    "from django.contrib.gis.geos import Point\n",
    "from django.contrib.gis.db.models.functions import Distance\n",
    "\n",
    "ponto = Point(-45.851157, -23.192602, srid=4236)\n",
    "\n",
    "# Bares mais próximos\n",
    "top_10 = POI.objects.annotate(distancia=Distance('geom', ponto)).order_by('distancia')[:10]\n",
    "for bar in top_10:\n",
    "    print(f'{bar}: {bar.distancia}, {bar.opening_hours_covid19}')"
   ]
  },
  {
   "cell_type": "code",
   "execution_count": 8,
   "metadata": {},
   "outputs": [],
   "source": [
    "cov = POI.objects.filter(opening_hours_covid19__isnull=False)"
   ]
  },
  {
   "cell_type": "code",
   "execution_count": 9,
   "metadata": {},
   "outputs": [
    {
     "name": "stdout",
     "output_type": "stream",
     "text": [
      "--\n",
      "Beco do Espeto\n",
      "Vinicula Torre Alta\n"
     ]
    }
   ],
   "source": [
    "for bar in cov:\n",
    "    print(f'{bar}')\n",
    "    "
   ]
  }
 ],
 "metadata": {
  "kernelspec": {
   "display_name": "Python 3",
   "language": "python",
   "name": "python3"
  },
  "language_info": {
   "codemirror_mode": {
    "name": "ipython",
    "version": 3
   },
   "file_extension": ".py",
   "mimetype": "text/x-python",
   "name": "python",
   "nbconvert_exporter": "python",
   "pygments_lexer": "ipython3",
   "version": "3.7.6"
  }
 },
 "nbformat": 4,
 "nbformat_minor": 4
}
